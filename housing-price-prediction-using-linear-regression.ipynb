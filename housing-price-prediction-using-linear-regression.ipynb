{
 "cells": [
  {
   "cell_type": "markdown",
   "id": "ce60cce5",
   "metadata": {
    "papermill": {
     "duration": 0.014059,
     "end_time": "2022-11-04T06:22:11.905896",
     "exception": false,
     "start_time": "2022-11-04T06:22:11.891837",
     "status": "completed"
    },
    "tags": []
   },
   "source": [
    "<h1 style=\"text-align:center; border-style: solid;border-width: 10px;border-color:#000080; border-radius:10px; padding:50px;background-color:DodgerBlue; color:white; font-size: 40px;font-family: 'Courier New', monospace;font-weight:800\">Housing Price prediction using Linear regression</h1>"
   ]
  },
  {
   "cell_type": "code",
   "execution_count": 1,
   "id": "c6c3f85a",
   "metadata": {
    "execution": {
     "iopub.execute_input": "2022-11-04T06:22:11.937274Z",
     "iopub.status.busy": "2022-11-04T06:22:11.936608Z",
     "iopub.status.idle": "2022-11-04T06:22:14.389385Z",
     "shell.execute_reply": "2022-11-04T06:22:14.387906Z"
    },
    "papermill": {
     "duration": 2.474331,
     "end_time": "2022-11-04T06:22:14.393102",
     "exception": false,
     "start_time": "2022-11-04T06:22:11.918771",
     "status": "completed"
    },
    "tags": []
   },
   "outputs": [],
   "source": [
    "import numpy as np #Standard numerical operation\n",
    "import pandas as pd #Dataframe import and manipulation\n",
    "\n",
    "import datetime\n",
    "\n",
    "#Plot library\n",
    "import seaborn as sns\n",
    "import matplotlib.pyplot as plt\n",
    "\n",
    "from statsmodels.api import OLS,add_constant #OLS model\n",
    "from statsmodels.stats.outliers_influence import variance_inflation_factor #VIF to check multicollinearity\n",
    "\n",
    "from sklearn.impute import KNNImputer #Imputing the null value \n",
    "from sklearn.model_selection import train_test_split #Split the dataset into train and test\n",
    "from sklearn.linear_model import Lasso,LinearRegression #Linear model\n",
    "from sklearn.metrics import mean_absolute_error, mean_squared_error, r2_score #metrics for examining the model\n",
    "\n",
    "# Setting plot theme and warning \n",
    "from matplotlib import warnings\n",
    "plt.style.use('seaborn-darkgrid')\n",
    "warnings.filterwarnings(\"ignore\") "
   ]
  },
  {
   "cell_type": "code",
   "execution_count": 2,
   "id": "38fa0466",
   "metadata": {
    "_cell_guid": "b1076dfc-b9ad-4769-8c92-a6c4dae69d19",
    "_uuid": "8f2839f25d086af736a60e9eeb907d3b93b6e0e5",
    "execution": {
     "iopub.execute_input": "2022-11-04T06:22:14.424232Z",
     "iopub.status.busy": "2022-11-04T06:22:14.422763Z",
     "iopub.status.idle": "2022-11-04T06:22:14.514239Z",
     "shell.execute_reply": "2022-11-04T06:22:14.512353Z"
    },
    "papermill": {
     "duration": 0.110778,
     "end_time": "2022-11-04T06:22:14.517448",
     "exception": false,
     "start_time": "2022-11-04T06:22:14.406670",
     "status": "completed"
    },
    "tags": []
   },
   "outputs": [],
   "source": [
    "train = pd.read_csv(\"../input/house-prices-advanced-regression-techniques/train.csv\",index_col=0)\n",
    "test = pd.read_csv(\"../input/house-prices-advanced-regression-techniques/test.csv\",index_col=0)"
   ]
  },
  {
   "cell_type": "code",
   "execution_count": 3,
   "id": "3dc96285",
   "metadata": {
    "execution": {
     "iopub.execute_input": "2022-11-04T06:22:14.546526Z",
     "iopub.status.busy": "2022-11-04T06:22:14.545669Z",
     "iopub.status.idle": "2022-11-04T06:22:14.556685Z",
     "shell.execute_reply": "2022-11-04T06:22:14.555767Z"
    },
    "papermill": {
     "duration": 0.030303,
     "end_time": "2022-11-04T06:22:14.560699",
     "exception": false,
     "start_time": "2022-11-04T06:22:14.530396",
     "status": "completed"
    },
    "tags": []
   },
   "outputs": [
    {
     "data": {
      "text/plain": [
       "object     43\n",
       "int64      34\n",
       "float64     3\n",
       "dtype: int64"
      ]
     },
     "execution_count": 3,
     "metadata": {},
     "output_type": "execute_result"
    }
   ],
   "source": [
    "train.dtypes.value_counts()"
   ]
  },
  {
   "cell_type": "code",
   "execution_count": 4,
   "id": "d3a98380",
   "metadata": {
    "execution": {
     "iopub.execute_input": "2022-11-04T06:22:14.591350Z",
     "iopub.status.busy": "2022-11-04T06:22:14.590420Z",
     "iopub.status.idle": "2022-11-04T06:22:14.602795Z",
     "shell.execute_reply": "2022-11-04T06:22:14.601379Z"
    },
    "papermill": {
     "duration": 0.031439,
     "end_time": "2022-11-04T06:22:14.606120",
     "exception": false,
     "start_time": "2022-11-04T06:22:14.574681",
     "status": "completed"
    },
    "tags": []
   },
   "outputs": [
    {
     "data": {
      "text/plain": [
       "object     43\n",
       "int64      25\n",
       "float64    11\n",
       "dtype: int64"
      ]
     },
     "execution_count": 4,
     "metadata": {},
     "output_type": "execute_result"
    }
   ],
   "source": [
    "test.dtypes.value_counts()"
   ]
  },
  {
   "cell_type": "code",
   "execution_count": 5,
   "id": "d8cd7de0",
   "metadata": {
    "execution": {
     "iopub.execute_input": "2022-11-04T06:22:14.635231Z",
     "iopub.status.busy": "2022-11-04T06:22:14.633911Z",
     "iopub.status.idle": "2022-11-04T06:22:14.672949Z",
     "shell.execute_reply": "2022-11-04T06:22:14.671459Z"
    },
    "papermill": {
     "duration": 0.057009,
     "end_time": "2022-11-04T06:22:14.675901",
     "exception": false,
     "start_time": "2022-11-04T06:22:14.618892",
     "status": "completed"
    },
    "tags": []
   },
   "outputs": [
    {
     "data": {
      "text/html": [
       "<div>\n",
       "<style scoped>\n",
       "    .dataframe tbody tr th:only-of-type {\n",
       "        vertical-align: middle;\n",
       "    }\n",
       "\n",
       "    .dataframe tbody tr th {\n",
       "        vertical-align: top;\n",
       "    }\n",
       "\n",
       "    .dataframe thead th {\n",
       "        text-align: right;\n",
       "    }\n",
       "</style>\n",
       "<table border=\"1\" class=\"dataframe\">\n",
       "  <thead>\n",
       "    <tr style=\"text-align: right;\">\n",
       "      <th></th>\n",
       "      <th>variable</th>\n",
       "      <th>Train</th>\n",
       "      <th>Test</th>\n",
       "    </tr>\n",
       "  </thead>\n",
       "  <tbody>\n",
       "    <tr>\n",
       "      <th>0</th>\n",
       "      <td>MSSubClass</td>\n",
       "      <td>0</td>\n",
       "      <td>0</td>\n",
       "    </tr>\n",
       "    <tr>\n",
       "      <th>1</th>\n",
       "      <td>MSZoning</td>\n",
       "      <td>0</td>\n",
       "      <td>4</td>\n",
       "    </tr>\n",
       "    <tr>\n",
       "      <th>2</th>\n",
       "      <td>LotFrontage</td>\n",
       "      <td>259</td>\n",
       "      <td>227</td>\n",
       "    </tr>\n",
       "    <tr>\n",
       "      <th>3</th>\n",
       "      <td>LotArea</td>\n",
       "      <td>0</td>\n",
       "      <td>0</td>\n",
       "    </tr>\n",
       "    <tr>\n",
       "      <th>4</th>\n",
       "      <td>Street</td>\n",
       "      <td>0</td>\n",
       "      <td>0</td>\n",
       "    </tr>\n",
       "    <tr>\n",
       "      <th>...</th>\n",
       "      <td>...</td>\n",
       "      <td>...</td>\n",
       "      <td>...</td>\n",
       "    </tr>\n",
       "    <tr>\n",
       "      <th>74</th>\n",
       "      <td>MiscVal</td>\n",
       "      <td>0</td>\n",
       "      <td>0</td>\n",
       "    </tr>\n",
       "    <tr>\n",
       "      <th>75</th>\n",
       "      <td>MoSold</td>\n",
       "      <td>0</td>\n",
       "      <td>0</td>\n",
       "    </tr>\n",
       "    <tr>\n",
       "      <th>76</th>\n",
       "      <td>YrSold</td>\n",
       "      <td>0</td>\n",
       "      <td>0</td>\n",
       "    </tr>\n",
       "    <tr>\n",
       "      <th>77</th>\n",
       "      <td>SaleType</td>\n",
       "      <td>0</td>\n",
       "      <td>1</td>\n",
       "    </tr>\n",
       "    <tr>\n",
       "      <th>78</th>\n",
       "      <td>SaleCondition</td>\n",
       "      <td>0</td>\n",
       "      <td>0</td>\n",
       "    </tr>\n",
       "  </tbody>\n",
       "</table>\n",
       "<p>79 rows × 3 columns</p>\n",
       "</div>"
      ],
      "text/plain": [
       "         variable  Train  Test\n",
       "0      MSSubClass      0     0\n",
       "1        MSZoning      0     4\n",
       "2     LotFrontage    259   227\n",
       "3         LotArea      0     0\n",
       "4          Street      0     0\n",
       "..            ...    ...   ...\n",
       "74        MiscVal      0     0\n",
       "75         MoSold      0     0\n",
       "76         YrSold      0     0\n",
       "77       SaleType      0     1\n",
       "78  SaleCondition      0     0\n",
       "\n",
       "[79 rows x 3 columns]"
      ]
     },
     "execution_count": 5,
     "metadata": {},
     "output_type": "execute_result"
    }
   ],
   "source": [
    "# Checking for null values in train and test set\n",
    "null_value = pd.DataFrame()\n",
    "null_value['variable'] = test.columns\n",
    "null_value['Train'] = train.drop(labels='SalePrice',axis=1).isnull().sum().to_list()\n",
    "null_value['Test']=test.isnull().sum().to_list()\n",
    "null_value"
   ]
  },
  {
   "cell_type": "code",
   "execution_count": 6,
   "id": "582eb9b4",
   "metadata": {
    "execution": {
     "iopub.execute_input": "2022-11-04T06:22:14.705595Z",
     "iopub.status.busy": "2022-11-04T06:22:14.705192Z",
     "iopub.status.idle": "2022-11-04T06:22:14.713814Z",
     "shell.execute_reply": "2022-11-04T06:22:14.712405Z"
    },
    "papermill": {
     "duration": 0.026501,
     "end_time": "2022-11-04T06:22:14.716411",
     "exception": false,
     "start_time": "2022-11-04T06:22:14.689910",
     "status": "completed"
    },
    "tags": []
   },
   "outputs": [],
   "source": [
    "# Selecting the non-null variable in both training and testing Dataset\n",
    "no_null_col = null_value[(null_value['Train']==0) & (null_value['Test']==0)].variable.to_list()"
   ]
  },
  {
   "cell_type": "code",
   "execution_count": 7,
   "id": "5a58a68b",
   "metadata": {
    "execution": {
     "iopub.execute_input": "2022-11-04T06:22:14.745113Z",
     "iopub.status.busy": "2022-11-04T06:22:14.744279Z",
     "iopub.status.idle": "2022-11-04T06:22:14.755061Z",
     "shell.execute_reply": "2022-11-04T06:22:14.753251Z"
    },
    "papermill": {
     "duration": 0.02922,
     "end_time": "2022-11-04T06:22:14.758705",
     "exception": false,
     "start_time": "2022-11-04T06:22:14.729485",
     "status": "completed"
    },
    "tags": []
   },
   "outputs": [],
   "source": [
    "df_train = train[no_null_col]\n",
    "df_train['SalePrice'] = train['SalePrice']\n",
    "df_test = test[no_null_col]"
   ]
  },
  {
   "cell_type": "code",
   "execution_count": 8,
   "id": "de44042b",
   "metadata": {
    "execution": {
     "iopub.execute_input": "2022-11-04T06:22:14.788452Z",
     "iopub.status.busy": "2022-11-04T06:22:14.787551Z",
     "iopub.status.idle": "2022-11-04T06:22:14.886237Z",
     "shell.execute_reply": "2022-11-04T06:22:14.884912Z"
    },
    "papermill": {
     "duration": 0.11782,
     "end_time": "2022-11-04T06:22:14.889966",
     "exception": false,
     "start_time": "2022-11-04T06:22:14.772146",
     "status": "completed"
    },
    "tags": []
   },
   "outputs": [
    {
     "data": {
      "text/html": [
       "<div>\n",
       "<style scoped>\n",
       "    .dataframe tbody tr th:only-of-type {\n",
       "        vertical-align: middle;\n",
       "    }\n",
       "\n",
       "    .dataframe tbody tr th {\n",
       "        vertical-align: top;\n",
       "    }\n",
       "\n",
       "    .dataframe thead th {\n",
       "        text-align: right;\n",
       "    }\n",
       "</style>\n",
       "<table border=\"1\" class=\"dataframe\">\n",
       "  <thead>\n",
       "    <tr style=\"text-align: right;\">\n",
       "      <th></th>\n",
       "      <th>count</th>\n",
       "      <th>mean</th>\n",
       "      <th>std</th>\n",
       "      <th>min</th>\n",
       "      <th>25%</th>\n",
       "      <th>50%</th>\n",
       "      <th>75%</th>\n",
       "      <th>max</th>\n",
       "    </tr>\n",
       "  </thead>\n",
       "  <tbody>\n",
       "    <tr>\n",
       "      <th>MSSubClass</th>\n",
       "      <td>1460.0</td>\n",
       "      <td>56.897260</td>\n",
       "      <td>42.300571</td>\n",
       "      <td>20.0</td>\n",
       "      <td>20.0</td>\n",
       "      <td>50.0</td>\n",
       "      <td>70.00</td>\n",
       "      <td>190.0</td>\n",
       "    </tr>\n",
       "    <tr>\n",
       "      <th>LotArea</th>\n",
       "      <td>1460.0</td>\n",
       "      <td>10516.828082</td>\n",
       "      <td>9981.264932</td>\n",
       "      <td>1300.0</td>\n",
       "      <td>7553.5</td>\n",
       "      <td>9478.5</td>\n",
       "      <td>11601.50</td>\n",
       "      <td>215245.0</td>\n",
       "    </tr>\n",
       "    <tr>\n",
       "      <th>OverallQual</th>\n",
       "      <td>1460.0</td>\n",
       "      <td>6.099315</td>\n",
       "      <td>1.382997</td>\n",
       "      <td>1.0</td>\n",
       "      <td>5.0</td>\n",
       "      <td>6.0</td>\n",
       "      <td>7.00</td>\n",
       "      <td>10.0</td>\n",
       "    </tr>\n",
       "    <tr>\n",
       "      <th>OverallCond</th>\n",
       "      <td>1460.0</td>\n",
       "      <td>5.575342</td>\n",
       "      <td>1.112799</td>\n",
       "      <td>1.0</td>\n",
       "      <td>5.0</td>\n",
       "      <td>5.0</td>\n",
       "      <td>6.00</td>\n",
       "      <td>9.0</td>\n",
       "    </tr>\n",
       "    <tr>\n",
       "      <th>YearBuilt</th>\n",
       "      <td>1460.0</td>\n",
       "      <td>1971.267808</td>\n",
       "      <td>30.202904</td>\n",
       "      <td>1872.0</td>\n",
       "      <td>1954.0</td>\n",
       "      <td>1973.0</td>\n",
       "      <td>2000.00</td>\n",
       "      <td>2010.0</td>\n",
       "    </tr>\n",
       "    <tr>\n",
       "      <th>YearRemodAdd</th>\n",
       "      <td>1460.0</td>\n",
       "      <td>1984.865753</td>\n",
       "      <td>20.645407</td>\n",
       "      <td>1950.0</td>\n",
       "      <td>1967.0</td>\n",
       "      <td>1994.0</td>\n",
       "      <td>2004.00</td>\n",
       "      <td>2010.0</td>\n",
       "    </tr>\n",
       "    <tr>\n",
       "      <th>1stFlrSF</th>\n",
       "      <td>1460.0</td>\n",
       "      <td>1162.626712</td>\n",
       "      <td>386.587738</td>\n",
       "      <td>334.0</td>\n",
       "      <td>882.0</td>\n",
       "      <td>1087.0</td>\n",
       "      <td>1391.25</td>\n",
       "      <td>4692.0</td>\n",
       "    </tr>\n",
       "    <tr>\n",
       "      <th>2ndFlrSF</th>\n",
       "      <td>1460.0</td>\n",
       "      <td>346.992466</td>\n",
       "      <td>436.528436</td>\n",
       "      <td>0.0</td>\n",
       "      <td>0.0</td>\n",
       "      <td>0.0</td>\n",
       "      <td>728.00</td>\n",
       "      <td>2065.0</td>\n",
       "    </tr>\n",
       "    <tr>\n",
       "      <th>LowQualFinSF</th>\n",
       "      <td>1460.0</td>\n",
       "      <td>5.844521</td>\n",
       "      <td>48.623081</td>\n",
       "      <td>0.0</td>\n",
       "      <td>0.0</td>\n",
       "      <td>0.0</td>\n",
       "      <td>0.00</td>\n",
       "      <td>572.0</td>\n",
       "    </tr>\n",
       "    <tr>\n",
       "      <th>GrLivArea</th>\n",
       "      <td>1460.0</td>\n",
       "      <td>1515.463699</td>\n",
       "      <td>525.480383</td>\n",
       "      <td>334.0</td>\n",
       "      <td>1129.5</td>\n",
       "      <td>1464.0</td>\n",
       "      <td>1776.75</td>\n",
       "      <td>5642.0</td>\n",
       "    </tr>\n",
       "    <tr>\n",
       "      <th>FullBath</th>\n",
       "      <td>1460.0</td>\n",
       "      <td>1.565068</td>\n",
       "      <td>0.550916</td>\n",
       "      <td>0.0</td>\n",
       "      <td>1.0</td>\n",
       "      <td>2.0</td>\n",
       "      <td>2.00</td>\n",
       "      <td>3.0</td>\n",
       "    </tr>\n",
       "    <tr>\n",
       "      <th>HalfBath</th>\n",
       "      <td>1460.0</td>\n",
       "      <td>0.382877</td>\n",
       "      <td>0.502885</td>\n",
       "      <td>0.0</td>\n",
       "      <td>0.0</td>\n",
       "      <td>0.0</td>\n",
       "      <td>1.00</td>\n",
       "      <td>2.0</td>\n",
       "    </tr>\n",
       "    <tr>\n",
       "      <th>BedroomAbvGr</th>\n",
       "      <td>1460.0</td>\n",
       "      <td>2.866438</td>\n",
       "      <td>0.815778</td>\n",
       "      <td>0.0</td>\n",
       "      <td>2.0</td>\n",
       "      <td>3.0</td>\n",
       "      <td>3.00</td>\n",
       "      <td>8.0</td>\n",
       "    </tr>\n",
       "    <tr>\n",
       "      <th>KitchenAbvGr</th>\n",
       "      <td>1460.0</td>\n",
       "      <td>1.046575</td>\n",
       "      <td>0.220338</td>\n",
       "      <td>0.0</td>\n",
       "      <td>1.0</td>\n",
       "      <td>1.0</td>\n",
       "      <td>1.00</td>\n",
       "      <td>3.0</td>\n",
       "    </tr>\n",
       "    <tr>\n",
       "      <th>TotRmsAbvGrd</th>\n",
       "      <td>1460.0</td>\n",
       "      <td>6.517808</td>\n",
       "      <td>1.625393</td>\n",
       "      <td>2.0</td>\n",
       "      <td>5.0</td>\n",
       "      <td>6.0</td>\n",
       "      <td>7.00</td>\n",
       "      <td>14.0</td>\n",
       "    </tr>\n",
       "    <tr>\n",
       "      <th>Fireplaces</th>\n",
       "      <td>1460.0</td>\n",
       "      <td>0.613014</td>\n",
       "      <td>0.644666</td>\n",
       "      <td>0.0</td>\n",
       "      <td>0.0</td>\n",
       "      <td>1.0</td>\n",
       "      <td>1.00</td>\n",
       "      <td>3.0</td>\n",
       "    </tr>\n",
       "    <tr>\n",
       "      <th>WoodDeckSF</th>\n",
       "      <td>1460.0</td>\n",
       "      <td>94.244521</td>\n",
       "      <td>125.338794</td>\n",
       "      <td>0.0</td>\n",
       "      <td>0.0</td>\n",
       "      <td>0.0</td>\n",
       "      <td>168.00</td>\n",
       "      <td>857.0</td>\n",
       "    </tr>\n",
       "    <tr>\n",
       "      <th>OpenPorchSF</th>\n",
       "      <td>1460.0</td>\n",
       "      <td>46.660274</td>\n",
       "      <td>66.256028</td>\n",
       "      <td>0.0</td>\n",
       "      <td>0.0</td>\n",
       "      <td>25.0</td>\n",
       "      <td>68.00</td>\n",
       "      <td>547.0</td>\n",
       "    </tr>\n",
       "    <tr>\n",
       "      <th>EnclosedPorch</th>\n",
       "      <td>1460.0</td>\n",
       "      <td>21.954110</td>\n",
       "      <td>61.119149</td>\n",
       "      <td>0.0</td>\n",
       "      <td>0.0</td>\n",
       "      <td>0.0</td>\n",
       "      <td>0.00</td>\n",
       "      <td>552.0</td>\n",
       "    </tr>\n",
       "    <tr>\n",
       "      <th>3SsnPorch</th>\n",
       "      <td>1460.0</td>\n",
       "      <td>3.409589</td>\n",
       "      <td>29.317331</td>\n",
       "      <td>0.0</td>\n",
       "      <td>0.0</td>\n",
       "      <td>0.0</td>\n",
       "      <td>0.00</td>\n",
       "      <td>508.0</td>\n",
       "    </tr>\n",
       "    <tr>\n",
       "      <th>ScreenPorch</th>\n",
       "      <td>1460.0</td>\n",
       "      <td>15.060959</td>\n",
       "      <td>55.757415</td>\n",
       "      <td>0.0</td>\n",
       "      <td>0.0</td>\n",
       "      <td>0.0</td>\n",
       "      <td>0.00</td>\n",
       "      <td>480.0</td>\n",
       "    </tr>\n",
       "    <tr>\n",
       "      <th>PoolArea</th>\n",
       "      <td>1460.0</td>\n",
       "      <td>2.758904</td>\n",
       "      <td>40.177307</td>\n",
       "      <td>0.0</td>\n",
       "      <td>0.0</td>\n",
       "      <td>0.0</td>\n",
       "      <td>0.00</td>\n",
       "      <td>738.0</td>\n",
       "    </tr>\n",
       "    <tr>\n",
       "      <th>MiscVal</th>\n",
       "      <td>1460.0</td>\n",
       "      <td>43.489041</td>\n",
       "      <td>496.123024</td>\n",
       "      <td>0.0</td>\n",
       "      <td>0.0</td>\n",
       "      <td>0.0</td>\n",
       "      <td>0.00</td>\n",
       "      <td>15500.0</td>\n",
       "    </tr>\n",
       "    <tr>\n",
       "      <th>MoSold</th>\n",
       "      <td>1460.0</td>\n",
       "      <td>6.321918</td>\n",
       "      <td>2.703626</td>\n",
       "      <td>1.0</td>\n",
       "      <td>5.0</td>\n",
       "      <td>6.0</td>\n",
       "      <td>8.00</td>\n",
       "      <td>12.0</td>\n",
       "    </tr>\n",
       "    <tr>\n",
       "      <th>YrSold</th>\n",
       "      <td>1460.0</td>\n",
       "      <td>2007.815753</td>\n",
       "      <td>1.328095</td>\n",
       "      <td>2006.0</td>\n",
       "      <td>2007.0</td>\n",
       "      <td>2008.0</td>\n",
       "      <td>2009.00</td>\n",
       "      <td>2010.0</td>\n",
       "    </tr>\n",
       "    <tr>\n",
       "      <th>SalePrice</th>\n",
       "      <td>1460.0</td>\n",
       "      <td>180921.195890</td>\n",
       "      <td>79442.502883</td>\n",
       "      <td>34900.0</td>\n",
       "      <td>129975.0</td>\n",
       "      <td>163000.0</td>\n",
       "      <td>214000.00</td>\n",
       "      <td>755000.0</td>\n",
       "    </tr>\n",
       "  </tbody>\n",
       "</table>\n",
       "</div>"
      ],
      "text/plain": [
       "                count           mean           std      min       25%  \\\n",
       "MSSubClass     1460.0      56.897260     42.300571     20.0      20.0   \n",
       "LotArea        1460.0   10516.828082   9981.264932   1300.0    7553.5   \n",
       "OverallQual    1460.0       6.099315      1.382997      1.0       5.0   \n",
       "OverallCond    1460.0       5.575342      1.112799      1.0       5.0   \n",
       "YearBuilt      1460.0    1971.267808     30.202904   1872.0    1954.0   \n",
       "YearRemodAdd   1460.0    1984.865753     20.645407   1950.0    1967.0   \n",
       "1stFlrSF       1460.0    1162.626712    386.587738    334.0     882.0   \n",
       "2ndFlrSF       1460.0     346.992466    436.528436      0.0       0.0   \n",
       "LowQualFinSF   1460.0       5.844521     48.623081      0.0       0.0   \n",
       "GrLivArea      1460.0    1515.463699    525.480383    334.0    1129.5   \n",
       "FullBath       1460.0       1.565068      0.550916      0.0       1.0   \n",
       "HalfBath       1460.0       0.382877      0.502885      0.0       0.0   \n",
       "BedroomAbvGr   1460.0       2.866438      0.815778      0.0       2.0   \n",
       "KitchenAbvGr   1460.0       1.046575      0.220338      0.0       1.0   \n",
       "TotRmsAbvGrd   1460.0       6.517808      1.625393      2.0       5.0   \n",
       "Fireplaces     1460.0       0.613014      0.644666      0.0       0.0   \n",
       "WoodDeckSF     1460.0      94.244521    125.338794      0.0       0.0   \n",
       "OpenPorchSF    1460.0      46.660274     66.256028      0.0       0.0   \n",
       "EnclosedPorch  1460.0      21.954110     61.119149      0.0       0.0   \n",
       "3SsnPorch      1460.0       3.409589     29.317331      0.0       0.0   \n",
       "ScreenPorch    1460.0      15.060959     55.757415      0.0       0.0   \n",
       "PoolArea       1460.0       2.758904     40.177307      0.0       0.0   \n",
       "MiscVal        1460.0      43.489041    496.123024      0.0       0.0   \n",
       "MoSold         1460.0       6.321918      2.703626      1.0       5.0   \n",
       "YrSold         1460.0    2007.815753      1.328095   2006.0    2007.0   \n",
       "SalePrice      1460.0  180921.195890  79442.502883  34900.0  129975.0   \n",
       "\n",
       "                    50%        75%       max  \n",
       "MSSubClass         50.0      70.00     190.0  \n",
       "LotArea          9478.5   11601.50  215245.0  \n",
       "OverallQual         6.0       7.00      10.0  \n",
       "OverallCond         5.0       6.00       9.0  \n",
       "YearBuilt        1973.0    2000.00    2010.0  \n",
       "YearRemodAdd     1994.0    2004.00    2010.0  \n",
       "1stFlrSF         1087.0    1391.25    4692.0  \n",
       "2ndFlrSF            0.0     728.00    2065.0  \n",
       "LowQualFinSF        0.0       0.00     572.0  \n",
       "GrLivArea        1464.0    1776.75    5642.0  \n",
       "FullBath            2.0       2.00       3.0  \n",
       "HalfBath            0.0       1.00       2.0  \n",
       "BedroomAbvGr        3.0       3.00       8.0  \n",
       "KitchenAbvGr        1.0       1.00       3.0  \n",
       "TotRmsAbvGrd        6.0       7.00      14.0  \n",
       "Fireplaces          1.0       1.00       3.0  \n",
       "WoodDeckSF          0.0     168.00     857.0  \n",
       "OpenPorchSF        25.0      68.00     547.0  \n",
       "EnclosedPorch       0.0       0.00     552.0  \n",
       "3SsnPorch           0.0       0.00     508.0  \n",
       "ScreenPorch         0.0       0.00     480.0  \n",
       "PoolArea            0.0       0.00     738.0  \n",
       "MiscVal             0.0       0.00   15500.0  \n",
       "MoSold              6.0       8.00      12.0  \n",
       "YrSold           2008.0    2009.00    2010.0  \n",
       "SalePrice      163000.0  214000.00  755000.0  "
      ]
     },
     "execution_count": 8,
     "metadata": {},
     "output_type": "execute_result"
    }
   ],
   "source": [
    "df_train.describe().T"
   ]
  },
  {
   "cell_type": "code",
   "execution_count": 9,
   "id": "62e48a3b",
   "metadata": {
    "execution": {
     "iopub.execute_input": "2022-11-04T06:22:14.920430Z",
     "iopub.status.busy": "2022-11-04T06:22:14.920002Z",
     "iopub.status.idle": "2022-11-04T06:22:14.928559Z",
     "shell.execute_reply": "2022-11-04T06:22:14.926852Z"
    },
    "papermill": {
     "duration": 0.027383,
     "end_time": "2022-11-04T06:22:14.931199",
     "exception": false,
     "start_time": "2022-11-04T06:22:14.903816",
     "status": "completed"
    },
    "tags": []
   },
   "outputs": [],
   "source": [
    "# Code for ploting boxplot and distplot of feature\n",
    "def plot_hist_box(data):\n",
    "    figure, axis = plt.subplots(1,2,figsize=(15, 5))\n",
    "    plt.suptitle(data.name)\n",
    "    axis[0].boxplot(data)\n",
    "    axis[1] = sns.distplot(data)\n",
    "    axis[1].lines[0].set_color('crimson')\n",
    "    rect = plt.Rectangle(\n",
    "    (0, 0), 1, 1, fill=False, color=\"k\", lw=3, transform=figure.transFigure, figure=figure)\n",
    "    figure.patches.extend([rect])\n",
    "    plt.show()"
   ]
  },
  {
   "cell_type": "code",
   "execution_count": 10,
   "id": "659f6555",
   "metadata": {
    "execution": {
     "iopub.execute_input": "2022-11-04T06:22:14.962333Z",
     "iopub.status.busy": "2022-11-04T06:22:14.961913Z",
     "iopub.status.idle": "2022-11-04T06:22:15.428024Z",
     "shell.execute_reply": "2022-11-04T06:22:15.426223Z"
    },
    "papermill": {
     "duration": 0.485548,
     "end_time": "2022-11-04T06:22:15.430889",
     "exception": false,
     "start_time": "2022-11-04T06:22:14.945341",
     "status": "completed"
    },
    "tags": []
   },
   "outputs": [
    {
     "data": {
      "image/png": "[encoded data removed]",
      "text/plain": [
       "<Figure size 1080x360 with 2 Axes>"
      ]
     },
     "metadata": {},
     "output_type": "display_data"
    }
   ],
   "source": [
    "plot_hist_box(df_train.SalePrice)"
   ]
  },
  {
   "cell_type": "markdown",
   "id": "21fb603e",
   "metadata": {
    "papermill": {
     "duration": 0.014452,
     "end_time": "2022-11-04T06:22:15.460126",
     "exception": false,
     "start_time": "2022-11-04T06:22:15.445674",
     "status": "completed"
    },
    "tags": []
   },
   "source": [
    "**Insights**\n",
    "\n",
    "- We have very few highly priced houses, most of the houses are in the range of 30000-400000"
   ]
  },
  {
   "cell_type": "markdown",
   "id": "807e81ba",
   "metadata": {
    "papermill": {
     "duration": 0.014467,
     "end_time": "2022-11-04T06:22:15.489050",
     "exception": false,
     "start_time": "2022-11-04T06:22:15.474583",
     "status": "completed"
    },
    "tags": []
   },
   "source": [
    "## Feature Engineering\n",
    "\n",
    "We can get information of the age of house with the help of YrSold and YearBuilt"
   ]
  },
  {
   "cell_type": "code",
   "execution_count": 11,
   "id": "c8af95d5",
   "metadata": {
    "execution": {
     "iopub.execute_input": "2022-11-04T06:22:15.520885Z",
     "iopub.status.busy": "2022-11-04T06:22:15.520484Z",
     "iopub.status.idle": "2022-11-04T06:22:15.531720Z",
     "shell.execute_reply": "2022-11-04T06:22:15.530643Z"
    },
    "papermill": {
     "duration": 0.030587,
     "end_time": "2022-11-04T06:22:15.534257",
     "exception": false,
     "start_time": "2022-11-04T06:22:15.503670",
     "status": "completed"
    },
    "tags": []
   },
   "outputs": [],
   "source": [
    "df_train['House_Age'] = df_train.YrSold - df_train.YearBuilt\n",
    "df_train['RemodAge']  = df_train.YrSold - df_train.YearRemodAdd\n",
    "df_train.drop(labels=['YrSold','YearBuilt','YearRemodAdd'],inplace=True,axis=1)"
   ]
  },
  {
   "cell_type": "code",
   "execution_count": 12,
   "id": "5c657175",
   "metadata": {
    "execution": {
     "iopub.execute_input": "2022-11-04T06:22:15.567178Z",
     "iopub.status.busy": "2022-11-04T06:22:15.566504Z",
     "iopub.status.idle": "2022-11-04T06:22:15.906291Z",
     "shell.execute_reply": "2022-11-04T06:22:15.904868Z"
    },
    "papermill": {
     "duration": 0.359212,
     "end_time": "2022-11-04T06:22:15.909208",
     "exception": false,
     "start_time": "2022-11-04T06:22:15.549996",
     "status": "completed"
    },
    "tags": []
   },
   "outputs": [
    {
     "data": {
      "image/png": "[encoded data removed]",
      "text/plain": [
       "<Figure size 1080x360 with 2 Axes>"
      ]
     },
     "metadata": {},
     "output_type": "display_data"
    }
   ],
   "source": [
    "plot_hist_box(df_train.House_Age)"
   ]
  },
  {
   "cell_type": "code",
   "execution_count": 13,
   "id": "c88ffb81",
   "metadata": {
    "execution": {
     "iopub.execute_input": "2022-11-04T06:22:15.940811Z",
     "iopub.status.busy": "2022-11-04T06:22:15.940423Z",
     "iopub.status.idle": "2022-11-04T06:22:16.233290Z",
     "shell.execute_reply": "2022-11-04T06:22:16.231841Z"
    },
    "papermill": {
     "duration": 0.312635,
     "end_time": "2022-11-04T06:22:16.237004",
     "exception": false,
     "start_time": "2022-11-04T06:22:15.924369",
     "status": "completed"
    },
    "tags": []
   },
   "outputs": [
    {
     "data": {
      "image/png": "[encoded data removed]",
      "text/plain": [
       "<Figure size 1080x360 with 2 Axes>"
      ]
     },
     "metadata": {},
     "output_type": "display_data"
    }
   ],
   "source": [
    "plot_hist_box(df_train.RemodAge)"
   ]
  },
  {
   "cell_type": "code",
   "execution_count": 14,
   "id": "201f62d2",
   "metadata": {
    "execution": {
     "iopub.execute_input": "2022-11-04T06:22:16.271362Z",
     "iopub.status.busy": "2022-11-04T06:22:16.270456Z",
     "iopub.status.idle": "2022-11-04T06:22:16.280522Z",
     "shell.execute_reply": "2022-11-04T06:22:16.279544Z"
    },
    "papermill": {
     "duration": 0.030361,
     "end_time": "2022-11-04T06:22:16.283018",
     "exception": false,
     "start_time": "2022-11-04T06:22:16.252657",
     "status": "completed"
    },
    "tags": []
   },
   "outputs": [],
   "source": [
    "df_test['House_Age'] = df_test.YrSold - df_test.YearBuilt\n",
    "df_test['RemodAge']  = df_test.YrSold - df_test.YearRemodAdd\n",
    "df_test.drop(labels=['YrSold','YearBuilt','YearRemodAdd'],inplace=True,axis=1)"
   ]
  },
  {
   "cell_type": "code",
   "execution_count": 15,
   "id": "fda5ab12",
   "metadata": {
    "execution": {
     "iopub.execute_input": "2022-11-04T06:22:16.317169Z",
     "iopub.status.busy": "2022-11-04T06:22:16.316416Z",
     "iopub.status.idle": "2022-11-04T06:22:16.327870Z",
     "shell.execute_reply": "2022-11-04T06:22:16.326942Z"
    },
    "papermill": {
     "duration": 0.031525,
     "end_time": "2022-11-04T06:22:16.330517",
     "exception": false,
     "start_time": "2022-11-04T06:22:16.298992",
     "status": "completed"
    },
    "tags": []
   },
   "outputs": [],
   "source": [
    "# We have over all condition and over all Quality, averaging both can give us an overall rating\n",
    "# This can be a very good, and will reduce the feature\n",
    "df_train['Overall_Rating'] = (df_train.OverallCond + df_train.OverallQual)*0.5\n",
    "df_test['Overall_Rating'] = (df_test.OverallCond + df_test.OverallQual)*0.5\n",
    "df_train.drop(labels=['OverallQual','OverallCond'],inplace=True,axis=1)\n",
    "df_test.drop(labels=['OverallQual','OverallCond'],inplace=True,axis=1)"
   ]
  },
  {
   "cell_type": "code",
   "execution_count": 16,
   "id": "4f5b55ec",
   "metadata": {
    "execution": {
     "iopub.execute_input": "2022-11-04T06:22:16.365982Z",
     "iopub.status.busy": "2022-11-04T06:22:16.365159Z",
     "iopub.status.idle": "2022-11-04T06:22:16.896637Z",
     "shell.execute_reply": "2022-11-04T06:22:16.895571Z"
    },
    "papermill": {
     "duration": 0.553458,
     "end_time": "2022-11-04T06:22:16.899518",
     "exception": false,
     "start_time": "2022-11-04T06:22:16.346060",
     "status": "completed"
    },
    "tags": []
   },
   "outputs": [
    {
     "data": {
      "image/png": "[encoded data removed]",
      "text/plain": [
       "<Figure size 1080x360 with 2 Axes>"
      ]
     },
     "metadata": {},
     "output_type": "display_data"
    }
   ],
   "source": [
    "plot_hist_box(df_train.Overall_Rating)"
   ]
  },
  {
   "cell_type": "code",
   "execution_count": 17,
   "id": "d6d02286",
   "metadata": {
    "execution": {
     "iopub.execute_input": "2022-11-04T06:22:16.938383Z",
     "iopub.status.busy": "2022-11-04T06:22:16.937645Z",
     "iopub.status.idle": "2022-11-04T06:22:17.034198Z",
     "shell.execute_reply": "2022-11-04T06:22:17.032309Z"
    },
    "papermill": {
     "duration": 0.122352,
     "end_time": "2022-11-04T06:22:17.039999",
     "exception": false,
     "start_time": "2022-11-04T06:22:16.917647",
     "status": "completed"
    },
    "tags": []
   },
   "outputs": [],
   "source": [
    "# we have missing Value in LotFrontage but we know that it is very important feature as people are\n",
    "# looking for the road attached building\n",
    "# We can see if access to street is available or not by street variable\n",
    "train.Street.isnull().sum() # 0; so we can clearly say that every building has access to street\n",
    "# we can't impute LotFrontage with 0;\n",
    "\n",
    "df_train['LotFrontage'] = train.LotFrontage\n",
    "df_test['LotFrontage'] = test.LotFrontage\n",
    "\n",
    "imputer = KNNImputer(n_neighbors=2)\n",
    "df_train.LotFrontage = imputer.fit_transform(df_train[['LotFrontage']])\n",
    "df_test.LotFrontage = imputer.fit_transform(df_test[['LotFrontage']])"
   ]
  },
  {
   "cell_type": "code",
   "execution_count": 18,
   "id": "a248fdec",
   "metadata": {
    "execution": {
     "iopub.execute_input": "2022-11-04T06:22:17.129301Z",
     "iopub.status.busy": "2022-11-04T06:22:17.127327Z",
     "iopub.status.idle": "2022-11-04T06:22:17.487232Z",
     "shell.execute_reply": "2022-11-04T06:22:17.486383Z"
    },
    "papermill": {
     "duration": 0.409003,
     "end_time": "2022-11-04T06:22:17.489690",
     "exception": false,
     "start_time": "2022-11-04T06:22:17.080687",
     "status": "completed"
    },
    "tags": []
   },
   "outputs": [
    {
     "data": {
      "image/png": "[encoded data removed]",
      "text/plain": [
       "<Figure size 1080x360 with 2 Axes>"
      ]
     },
     "metadata": {},
     "output_type": "display_data"
    }
   ],
   "source": [
    "plot_hist_box(df_train.LotFrontage)"
   ]
  },
  {
   "cell_type": "code",
   "execution_count": 19,
   "id": "87351e22",
   "metadata": {
    "execution": {
     "iopub.execute_input": "2022-11-04T06:22:17.524159Z",
     "iopub.status.busy": "2022-11-04T06:22:17.523533Z",
     "iopub.status.idle": "2022-11-04T06:22:17.863864Z",
     "shell.execute_reply": "2022-11-04T06:22:17.862991Z"
    },
    "papermill": {
     "duration": 0.360342,
     "end_time": "2022-11-04T06:22:17.866308",
     "exception": false,
     "start_time": "2022-11-04T06:22:17.505966",
     "status": "completed"
    },
    "tags": []
   },
   "outputs": [
    {
     "data": {
      "image/png": "[encoded data removed]",
      "text/plain": [
       "<Figure size 1080x360 with 2 Axes>"
      ]
     },
     "metadata": {},
     "output_type": "display_data"
    }
   ],
   "source": [
    "plot_hist_box(df_train.LotArea)"
   ]
  },
  {
   "cell_type": "markdown",
   "id": "a8e39530",
   "metadata": {
    "papermill": {
     "duration": 0.016628,
     "end_time": "2022-11-04T06:22:17.900130",
     "exception": false,
     "start_time": "2022-11-04T06:22:17.883502",
     "status": "completed"
    },
    "tags": []
   },
   "source": [
    "**Insight**\n",
    "- LotArea is highly right-tailed\n",
    "- LotFrontage after the imputation is slightly near to normal, but still we can see some tail\n",
    "- We can check for outlier-percentage in both"
   ]
  },
  {
   "cell_type": "code",
   "execution_count": 20,
   "id": "74a38fd6",
   "metadata": {
    "execution": {
     "iopub.execute_input": "2022-11-04T06:22:17.938340Z",
     "iopub.status.busy": "2022-11-04T06:22:17.937893Z",
     "iopub.status.idle": "2022-11-04T06:22:17.966546Z",
     "shell.execute_reply": "2022-11-04T06:22:17.964843Z"
    },
    "papermill": {
     "duration": 0.051844,
     "end_time": "2022-11-04T06:22:17.969675",
     "exception": false,
     "start_time": "2022-11-04T06:22:17.917831",
     "status": "completed"
    },
    "tags": []
   },
   "outputs": [
    {
     "name": "stdout",
     "output_type": "stream",
     "text": [
      "Additional data in test is {150}\n"
     ]
    }
   ],
   "source": [
    "# MSSubClass is a categorical variable as given in data description We can have a one hot encoding\n",
    "\n",
    "# we have addition {150} in the df_test.MSSubClass label so directly one-hot encoding will not give \n",
    "# correct shape\n",
    "\n",
    "train_MS_label = set(df_train.MSSubClass.value_counts().index.tolist())\n",
    "test_MS_label = set(df_test.MSSubClass.value_counts().index.tolist())\n",
    "\n",
    "print(f\"Additional data in test is {test_MS_label-train_MS_label}\")\n",
    "\n",
    "# After getting dummy we have to concate additional column with zero filled \n",
    "\n",
    "df_train = pd.get_dummies(df_train,columns=['MSSubClass'])\n",
    "df_test = pd.get_dummies(df_test,columns=['MSSubClass'])\n",
    "\n",
    "# Concate Addition {150} column\n",
    "df_t_0_l = [0]*df_train.shape[0]\n",
    "df_0 = pd.DataFrame(df_t_0_l,columns=['MSSubClass_150'])\n",
    "df_train = df_train.join(df_0)"
   ]
  },
  {
   "cell_type": "code",
   "execution_count": 21,
   "id": "c1ebad0a",
   "metadata": {
    "execution": {
     "iopub.execute_input": "2022-11-04T06:22:18.009326Z",
     "iopub.status.busy": "2022-11-04T06:22:18.008695Z",
     "iopub.status.idle": "2022-11-04T06:22:18.017800Z",
     "shell.execute_reply": "2022-11-04T06:22:18.016222Z"
    },
    "papermill": {
     "duration": 0.033914,
     "end_time": "2022-11-04T06:22:18.020569",
     "exception": false,
     "start_time": "2022-11-04T06:22:17.986655",
     "status": "completed"
    },
    "tags": []
   },
   "outputs": [
    {
     "data": {
      "text/plain": [
       "Index(['LotArea', '1stFlrSF', '2ndFlrSF', 'LowQualFinSF', 'GrLivArea',\n",
       "       'FullBath', 'HalfBath', 'BedroomAbvGr', 'KitchenAbvGr', 'TotRmsAbvGrd',\n",
       "       'Fireplaces', 'WoodDeckSF', 'OpenPorchSF', 'EnclosedPorch', '3SsnPorch',\n",
       "       'ScreenPorch', 'PoolArea', 'MiscVal', 'MoSold', 'SalePrice',\n",
       "       'House_Age', 'RemodAge', 'Overall_Rating', 'LotFrontage',\n",
       "       'MSSubClass_20', 'MSSubClass_30', 'MSSubClass_40', 'MSSubClass_45',\n",
       "       'MSSubClass_50', 'MSSubClass_60', 'MSSubClass_70', 'MSSubClass_75',\n",
       "       'MSSubClass_80', 'MSSubClass_85', 'MSSubClass_90', 'MSSubClass_120',\n",
       "       'MSSubClass_160', 'MSSubClass_180', 'MSSubClass_190', 'MSSubClass_150'],\n",
       "      dtype='object')"
      ]
     },
     "execution_count": 21,
     "metadata": {},
     "output_type": "execute_result"
    }
   ],
   "source": [
    "df_train.columns[df_train.dtypes != 'O']"
   ]
  },
  {
   "cell_type": "code",
   "execution_count": 22,
   "id": "27e0b597",
   "metadata": {
    "execution": {
     "iopub.execute_input": "2022-11-04T06:22:18.057304Z",
     "iopub.status.busy": "2022-11-04T06:22:18.056105Z",
     "iopub.status.idle": "2022-11-04T06:22:18.270283Z",
     "shell.execute_reply": "2022-11-04T06:22:18.268423Z"
    },
    "papermill": {
     "duration": 0.2353,
     "end_time": "2022-11-04T06:22:18.273128",
     "exception": false,
     "start_time": "2022-11-04T06:22:18.037828",
     "status": "completed"
    },
    "tags": []
   },
   "outputs": [
    {
     "data": {
      "image/png": "[encoded data removed]",
      "text/plain": [
       "<Figure size 1080x360 with 1 Axes>"
      ]
     },
     "metadata": {},
     "output_type": "display_data"
    }
   ],
   "source": [
    "# Checking Highest sale by the Month of Sold\n",
    "from calendar import month_name\n",
    "from collections import OrderedDict\n",
    "\n",
    "x = lambda x : datetime.date(1900, x, 1).strftime('%B')\n",
    "month = list(map(x,df_train.MoSold.value_counts().index.to_list()))\n",
    "sale_count = df_train.MoSold.value_counts().to_list()\n",
    "month_sale = dict(zip(month,sale_count))\n",
    "monthj = list(month_name)\n",
    "monthj.remove('')\n",
    "month_sale = OrderedDict([(a, month_sale[a]) for a in monthj])\n",
    "plt.figure(figsize=(15,5))\n",
    "colors = ['r','r','gray','gray','gray','g','g','gray','gray','gray','gray','gray']\n",
    "plt.bar(month_sale.keys(),month_sale.values(),color=colors)\n",
    "plt.title('Month-Wise House Sale')\n",
    "plt.ylabel('Sale Count')\n",
    "plt.xlabel('Month')\n",
    "plt.xticks(rotation=45)\n",
    "plt.show()"
   ]
  },
  {
   "cell_type": "markdown",
   "id": "3b054cb5",
   "metadata": {
    "papermill": {
     "duration": 0.017982,
     "end_time": "2022-11-04T06:22:18.309126",
     "exception": false,
     "start_time": "2022-11-04T06:22:18.291144",
     "status": "completed"
    },
    "tags": []
   },
   "source": [
    "**Insights**\n",
    "\n",
    "- We can see that that all the month are not comman for sale, we have highest sale during the summer.\n",
    "- Lowest sale in the month of Jan and Feb"
   ]
  },
  {
   "cell_type": "code",
   "execution_count": 23,
   "id": "95640bc6",
   "metadata": {
    "execution": {
     "iopub.execute_input": "2022-11-04T06:22:18.348357Z",
     "iopub.status.busy": "2022-11-04T06:22:18.347943Z",
     "iopub.status.idle": "2022-11-04T06:22:18.367340Z",
     "shell.execute_reply": "2022-11-04T06:22:18.366090Z"
    },
    "papermill": {
     "duration": 0.041461,
     "end_time": "2022-11-04T06:22:18.370350",
     "exception": false,
     "start_time": "2022-11-04T06:22:18.328889",
     "status": "completed"
    },
    "tags": []
   },
   "outputs": [],
   "source": [
    "# Since MoSold is a categorical variable so we have to have one hot encoding,we can drop the first value\n",
    "df_train = pd.get_dummies(df_train,columns=['MoSold'],drop_first=True)\n",
    "df_test = pd.get_dummies(df_test,columns=['MoSold'],drop_first=True)"
   ]
  },
  {
   "cell_type": "code",
   "execution_count": 24,
   "id": "4cabb2a7",
   "metadata": {
    "execution": {
     "iopub.execute_input": "2022-11-04T06:22:18.408168Z",
     "iopub.status.busy": "2022-11-04T06:22:18.407715Z",
     "iopub.status.idle": "2022-11-04T06:22:18.427765Z",
     "shell.execute_reply": "2022-11-04T06:22:18.426235Z"
    },
    "papermill": {
     "duration": 0.042908,
     "end_time": "2022-11-04T06:22:18.431636",
     "exception": false,
     "start_time": "2022-11-04T06:22:18.388728",
     "status": "completed"
    },
    "tags": []
   },
   "outputs": [],
   "source": [
    "df_train = pd.get_dummies(df_train,columns=['SaleCondition'],drop_first=True)\n",
    "df_test = pd.get_dummies(df_test,columns=['SaleCondition'],drop_first=True)"
   ]
  },
  {
   "cell_type": "code",
   "execution_count": 25,
   "id": "40cb2486",
   "metadata": {
    "execution": {
     "iopub.execute_input": "2022-11-04T06:22:18.469356Z",
     "iopub.status.busy": "2022-11-04T06:22:18.468849Z",
     "iopub.status.idle": "2022-11-04T06:22:18.503179Z",
     "shell.execute_reply": "2022-11-04T06:22:18.501577Z"
    },
    "papermill": {
     "duration": 0.056985,
     "end_time": "2022-11-04T06:22:18.506603",
     "exception": false,
     "start_time": "2022-11-04T06:22:18.449618",
     "status": "completed"
    },
    "tags": []
   },
   "outputs": [],
   "source": [
    "# Exterior Quality and Exterior condition check the material on the  exterior side, we will be merging both the rating\n",
    "label = {'None':0,'Ex':5, 'Gd':4,'TA':3,'Fa':2,'Po':1}\n",
    "df_train.ExterQual.fillna('None',inplace=True)\n",
    "df_test.ExterQual.fillna('None',inplace=True)\n",
    "df_train.replace({'ExterQual':label},inplace=True)\n",
    "df_test.replace({'ExterQual':label},inplace=True)\n",
    "\n",
    "df_train.ExterCond.fillna('None',inplace=True)\n",
    "df_test.ExterCond.fillna('None',inplace=True)\n",
    "df_train.replace({'ExterCond':label},inplace=True)\n",
    "df_test.replace({'ExterCond':label},inplace=True)\n",
    "\n",
    "df_train['External_QC'] = (df_train.ExterCond + df_train.ExterQual)*0.5\n",
    "df_test['External_QC'] = (df_test.ExterCond + df_test.ExterQual)*0.5\n",
    "\n",
    "df_train.drop(labels=['ExterQual','ExterCond'],inplace=True,axis=1)\n",
    "df_test.drop(labels=['ExterQual','ExterCond'],inplace=True,axis=1)"
   ]
  },
  {
   "cell_type": "code",
   "execution_count": 26,
   "id": "dcf42866",
   "metadata": {
    "execution": {
     "iopub.execute_input": "2022-11-04T06:22:18.544266Z",
     "iopub.status.busy": "2022-11-04T06:22:18.542975Z",
     "iopub.status.idle": "2022-11-04T06:22:18.901473Z",
     "shell.execute_reply": "2022-11-04T06:22:18.900104Z"
    },
    "papermill": {
     "duration": 0.38028,
     "end_time": "2022-11-04T06:22:18.904315",
     "exception": false,
     "start_time": "2022-11-04T06:22:18.524035",
     "status": "completed"
    },
    "tags": []
   },
   "outputs": [
    {
     "data": {
      "image/png": "[encoded data removed]",
      "text/plain": [
       "<Figure size 1080x360 with 2 Axes>"
      ]
     },
     "metadata": {},
     "output_type": "display_data"
    }
   ],
   "source": [
    "plot_hist_box(df_train.External_QC)"
   ]
  },
  {
   "cell_type": "code",
   "execution_count": 27,
   "id": "6a96449f",
   "metadata": {
    "execution": {
     "iopub.execute_input": "2022-11-04T06:22:18.944967Z",
     "iopub.status.busy": "2022-11-04T06:22:18.943515Z",
     "iopub.status.idle": "2022-11-04T06:22:19.252576Z",
     "shell.execute_reply": "2022-11-04T06:22:19.251040Z"
    },
    "papermill": {
     "duration": 0.331868,
     "end_time": "2022-11-04T06:22:19.255363",
     "exception": false,
     "start_time": "2022-11-04T06:22:18.923495",
     "status": "completed"
    },
    "tags": []
   },
   "outputs": [
    {
     "data": {
      "image/png": "[encoded data removed]",
      "text/plain": [
       "<Figure size 1080x360 with 2 Axes>"
      ]
     },
     "metadata": {},
     "output_type": "display_data"
    }
   ],
   "source": [
    "# Let's look at the Fireplaces count in houses, we will be converting to bimodular , either fireplace there or not\n",
    "df_train.Fireplaces = (df_train.Fireplaces>0).astype(int)\n",
    "plot_hist_box(df_train.Fireplaces)"
   ]
  },
  {
   "cell_type": "code",
   "execution_count": 28,
   "id": "8b5a9052",
   "metadata": {
    "execution": {
     "iopub.execute_input": "2022-11-04T06:22:19.296015Z",
     "iopub.status.busy": "2022-11-04T06:22:19.295465Z",
     "iopub.status.idle": "2022-11-04T06:22:19.600843Z",
     "shell.execute_reply": "2022-11-04T06:22:19.598902Z"
    },
    "papermill": {
     "duration": 0.33018,
     "end_time": "2022-11-04T06:22:19.604075",
     "exception": false,
     "start_time": "2022-11-04T06:22:19.273895",
     "status": "completed"
    },
    "tags": []
   },
   "outputs": [
    {
     "data": {
      "image/png": "[encoded data removed]",
      "text/plain": [
       "<Figure size 1080x360 with 2 Axes>"
      ]
     },
     "metadata": {},
     "output_type": "display_data"
    }
   ],
   "source": [
    "df_test.Fireplaces = (df_test.Fireplaces>0).astype(int)\n",
    "plot_hist_box(df_test.Fireplaces)"
   ]
  },
  {
   "cell_type": "code",
   "execution_count": 29,
   "id": "5c90a371",
   "metadata": {
    "execution": {
     "iopub.execute_input": "2022-11-04T06:22:19.643558Z",
     "iopub.status.busy": "2022-11-04T06:22:19.643122Z",
     "iopub.status.idle": "2022-11-04T06:22:19.655231Z",
     "shell.execute_reply": "2022-11-04T06:22:19.653643Z"
    },
    "papermill": {
     "duration": 0.035273,
     "end_time": "2022-11-04T06:22:19.658460",
     "exception": false,
     "start_time": "2022-11-04T06:22:19.623187",
     "status": "completed"
    },
    "tags": []
   },
   "outputs": [],
   "source": [
    "# Encoding the Steet with 0 and 1\n",
    "df_train['Street'].replace(['Pave','Grvl'],[0,1],inplace=True)\n",
    "df_test['Street'].replace(['Pave','Grvl'],[0,1],inplace=True)"
   ]
  },
  {
   "cell_type": "code",
   "execution_count": 30,
   "id": "cd93a304",
   "metadata": {
    "execution": {
     "iopub.execute_input": "2022-11-04T06:22:19.699496Z",
     "iopub.status.busy": "2022-11-04T06:22:19.699067Z",
     "iopub.status.idle": "2022-11-04T06:22:20.054536Z",
     "shell.execute_reply": "2022-11-04T06:22:20.053099Z"
    },
    "papermill": {
     "duration": 0.37911,
     "end_time": "2022-11-04T06:22:20.057330",
     "exception": false,
     "start_time": "2022-11-04T06:22:19.678220",
     "status": "completed"
    },
    "tags": []
   },
   "outputs": [
    {
     "data": {
      "image/png": "[encoded data removed]",
      "text/plain": [
       "<Figure size 1080x360 with 2 Axes>"
      ]
     },
     "metadata": {},
     "output_type": "display_data"
    }
   ],
   "source": [
    "plot_hist_box(df_train.Street)"
   ]
  },
  {
   "cell_type": "markdown",
   "id": "bcf4c09e",
   "metadata": {
    "papermill": {
     "duration": 0.021163,
     "end_time": "2022-11-04T06:22:20.098479",
     "exception": false,
     "start_time": "2022-11-04T06:22:20.077316",
     "status": "completed"
    },
    "tags": []
   },
   "source": [
    "**Insight**\n",
    "- We have unbalanced sample for Street Variable, let's perform a bivariate of Street with Sale Price"
   ]
  },
  {
   "cell_type": "code",
   "execution_count": 31,
   "id": "ecd335c3",
   "metadata": {
    "execution": {
     "iopub.execute_input": "2022-11-04T06:22:20.141192Z",
     "iopub.status.busy": "2022-11-04T06:22:20.140675Z",
     "iopub.status.idle": "2022-11-04T06:22:20.147967Z",
     "shell.execute_reply": "2022-11-04T06:22:20.146004Z"
    },
    "papermill": {
     "duration": 0.032557,
     "end_time": "2022-11-04T06:22:20.151013",
     "exception": false,
     "start_time": "2022-11-04T06:22:20.118456",
     "status": "completed"
    },
    "tags": []
   },
   "outputs": [],
   "source": [
    "dum_var = ['LotShape','LandContour','LandSlope','LotConfig','Neighborhood','RoofStyle','PavedDrive','Foundation']"
   ]
  },
  {
   "cell_type": "code",
   "execution_count": 32,
   "id": "c4aa5967",
   "metadata": {
    "execution": {
     "iopub.execute_input": "2022-11-04T06:22:20.191954Z",
     "iopub.status.busy": "2022-11-04T06:22:20.191538Z",
     "iopub.status.idle": "2022-11-04T06:22:20.224012Z",
     "shell.execute_reply": "2022-11-04T06:22:20.222009Z"
    },
    "papermill": {
     "duration": 0.057127,
     "end_time": "2022-11-04T06:22:20.227266",
     "exception": false,
     "start_time": "2022-11-04T06:22:20.170139",
     "status": "completed"
    },
    "tags": []
   },
   "outputs": [],
   "source": [
    "# Creating dummy variable for dum_var\n",
    "df_train = pd.get_dummies(df_train,columns=dum_var,drop_first=True)\n",
    "df_test = pd.get_dummies(df_test,columns=dum_var,drop_first=True)"
   ]
  },
  {
   "cell_type": "code",
   "execution_count": 33,
   "id": "fe359cdc",
   "metadata": {
    "execution": {
     "iopub.execute_input": "2022-11-04T06:22:20.268117Z",
     "iopub.status.busy": "2022-11-04T06:22:20.267619Z",
     "iopub.status.idle": "2022-11-04T06:22:20.289110Z",
     "shell.execute_reply": "2022-11-04T06:22:20.287181Z"
    },
    "papermill": {
     "duration": 0.045166,
     "end_time": "2022-11-04T06:22:20.292266",
     "exception": false,
     "start_time": "2022-11-04T06:22:20.247100",
     "status": "completed"
    },
    "tags": []
   },
   "outputs": [],
   "source": [
    "# Encoding Heating Quality\n",
    "label = {'None':0,'Ex':5, 'Gd':4,'TA':3,'Fa':2,'Po':1}\n",
    "df_train.HeatingQC.fillna('None',inplace=True)\n",
    "df_test.HeatingQC.fillna('None',inplace=True)\n",
    "df_train.replace({'HeatingQC':label},inplace=True)\n",
    "df_test.replace({'HeatingQC':label},inplace=True)"
   ]
  },
  {
   "cell_type": "code",
   "execution_count": 34,
   "id": "775f1576",
   "metadata": {
    "execution": {
     "iopub.execute_input": "2022-11-04T06:22:20.332975Z",
     "iopub.status.busy": "2022-11-04T06:22:20.332527Z",
     "iopub.status.idle": "2022-11-04T06:22:20.344735Z",
     "shell.execute_reply": "2022-11-04T06:22:20.343540Z"
    },
    "papermill": {
     "duration": 0.035484,
     "end_time": "2022-11-04T06:22:20.347426",
     "exception": false,
     "start_time": "2022-11-04T06:22:20.311942",
     "status": "completed"
    },
    "tags": []
   },
   "outputs": [],
   "source": [
    "drop_obj = df_train.columns[df_train.dtypes == 'O'].to_list()\n",
    "df_train.drop(labels=drop_obj,inplace=True,axis=1)\n",
    "df_test.drop(labels=drop_obj,inplace=True,axis=1)"
   ]
  },
  {
   "cell_type": "code",
   "execution_count": 35,
   "id": "67e12f1a",
   "metadata": {
    "execution": {
     "iopub.execute_input": "2022-11-04T06:22:20.388418Z",
     "iopub.status.busy": "2022-11-04T06:22:20.388008Z",
     "iopub.status.idle": "2022-11-04T06:22:20.393312Z",
     "shell.execute_reply": "2022-11-04T06:22:20.392341Z"
    },
    "papermill": {
     "duration": 0.028366,
     "end_time": "2022-11-04T06:22:20.395439",
     "exception": false,
     "start_time": "2022-11-04T06:22:20.367073",
     "status": "completed"
    },
    "tags": []
   },
   "outputs": [],
   "source": [
    "df_train.fillna(0,inplace=True)"
   ]
  },
  {
   "cell_type": "code",
   "execution_count": 36,
   "id": "dc7d7288",
   "metadata": {
    "execution": {
     "iopub.execute_input": "2022-11-04T06:22:20.436185Z",
     "iopub.status.busy": "2022-11-04T06:22:20.435708Z",
     "iopub.status.idle": "2022-11-04T06:22:20.444794Z",
     "shell.execute_reply": "2022-11-04T06:22:20.443580Z"
    },
    "papermill": {
     "duration": 0.031916,
     "end_time": "2022-11-04T06:22:20.447236",
     "exception": false,
     "start_time": "2022-11-04T06:22:20.415320",
     "status": "completed"
    },
    "tags": []
   },
   "outputs": [],
   "source": [
    "df_train['Fence'] = train.Fence\n",
    "df_test['Fence'] = test.Fence\n",
    "\n",
    "df_train.fillna(0,inplace=True)\n",
    "df_test.fillna(0,inplace=True)"
   ]
  },
  {
   "cell_type": "code",
   "execution_count": 37,
   "id": "8f3455c9",
   "metadata": {
    "execution": {
     "iopub.execute_input": "2022-11-04T06:22:20.488882Z",
     "iopub.status.busy": "2022-11-04T06:22:20.487716Z",
     "iopub.status.idle": "2022-11-04T06:22:20.495308Z",
     "shell.execute_reply": "2022-11-04T06:22:20.494171Z"
    },
    "papermill": {
     "duration": 0.031241,
     "end_time": "2022-11-04T06:22:20.498077",
     "exception": false,
     "start_time": "2022-11-04T06:22:20.466836",
     "status": "completed"
    },
    "tags": []
   },
   "outputs": [],
   "source": [
    "# Checking if fence is available or not\n",
    "df_train.Fence = (df_train.Fence!=0).astype(int)\n",
    "df_test.Fence = (df_test.Fence!=0).astype(int)"
   ]
  },
  {
   "cell_type": "markdown",
   "id": "9e73312d",
   "metadata": {
    "papermill": {
     "duration": 0.019753,
     "end_time": "2022-11-04T06:22:20.538142",
     "exception": false,
     "start_time": "2022-11-04T06:22:20.518389",
     "status": "completed"
    },
    "tags": []
   },
   "source": [
    "# Model Preparation"
   ]
  },
  {
   "cell_type": "code",
   "execution_count": 38,
   "id": "196ff8ce",
   "metadata": {
    "execution": {
     "iopub.execute_input": "2022-11-04T06:22:20.577490Z",
     "iopub.status.busy": "2022-11-04T06:22:20.577115Z",
     "iopub.status.idle": "2022-11-04T06:22:20.587282Z",
     "shell.execute_reply": "2022-11-04T06:22:20.585538Z"
    },
    "papermill": {
     "duration": 0.033309,
     "end_time": "2022-11-04T06:22:20.590211",
     "exception": false,
     "start_time": "2022-11-04T06:22:20.556902",
     "status": "completed"
    },
    "tags": []
   },
   "outputs": [
    {
     "name": "stdout",
     "output_type": "stream",
     "text": [
      "(1460, 106)\n",
      "(1460, 1)\n"
     ]
    }
   ],
   "source": [
    "X = df_train.drop('SalePrice',axis=1)\n",
    "y = df_train[['SalePrice']]\n",
    "\n",
    "print(X.shape)\n",
    "print(y.shape)"
   ]
  },
  {
   "cell_type": "code",
   "execution_count": 39,
   "id": "b523039e",
   "metadata": {
    "execution": {
     "iopub.execute_input": "2022-11-04T06:22:20.631196Z",
     "iopub.status.busy": "2022-11-04T06:22:20.630754Z",
     "iopub.status.idle": "2022-11-04T06:22:20.640806Z",
     "shell.execute_reply": "2022-11-04T06:22:20.639291Z"
    },
    "papermill": {
     "duration": 0.034967,
     "end_time": "2022-11-04T06:22:20.644784",
     "exception": false,
     "start_time": "2022-11-04T06:22:20.609817",
     "status": "completed"
    },
    "tags": []
   },
   "outputs": [
    {
     "name": "stdout",
     "output_type": "stream",
     "text": [
      "Training Data:1168\n",
      "Testing Data:292\n"
     ]
    }
   ],
   "source": [
    "# Spliting the data into test and train sample in 20:80 ratio\n",
    "X_train, X_test, y_train, y_test = train_test_split(X, y, test_size=0.2, random_state=42)\n",
    "\n",
    "print(\"Training Data:{}\".format(X_train.shape[0]))\n",
    "print(\"Testing Data:{}\".format(X_test.shape[0]))"
   ]
  },
  {
   "cell_type": "markdown",
   "id": "cb55b244",
   "metadata": {
    "papermill": {
     "duration": 0.019028,
     "end_time": "2022-11-04T06:22:20.683484",
     "exception": false,
     "start_time": "2022-11-04T06:22:20.664456",
     "status": "completed"
    },
    "tags": []
   },
   "source": [
    "## Linear Regression Model"
   ]
  },
  {
   "cell_type": "code",
   "execution_count": 40,
   "id": "60163209",
   "metadata": {
    "execution": {
     "iopub.execute_input": "2022-11-04T06:22:20.723978Z",
     "iopub.status.busy": "2022-11-04T06:22:20.722631Z",
     "iopub.status.idle": "2022-11-04T06:22:20.764347Z",
     "shell.execute_reply": "2022-11-04T06:22:20.762562Z"
    },
    "papermill": {
     "duration": 0.066202,
     "end_time": "2022-11-04T06:22:20.768778",
     "exception": false,
     "start_time": "2022-11-04T06:22:20.702576",
     "status": "completed"
    },
    "tags": []
   },
   "outputs": [
    {
     "data": {
      "text/plain": [
       "LinearRegression()"
      ]
     },
     "execution_count": 40,
     "metadata": {},
     "output_type": "execute_result"
    }
   ],
   "source": [
    "Linear_Model = LinearRegression()\n",
    "Linear_Model.fit(X_train,y_train)"
   ]
  },
  {
   "cell_type": "code",
   "execution_count": 41,
   "id": "b94f242d",
   "metadata": {
    "execution": {
     "iopub.execute_input": "2022-11-04T06:22:20.869777Z",
     "iopub.status.busy": "2022-11-04T06:22:20.868991Z",
     "iopub.status.idle": "2022-11-04T06:22:20.891516Z",
     "shell.execute_reply": "2022-11-04T06:22:20.889934Z"
    },
    "papermill": {
     "duration": 0.078344,
     "end_time": "2022-11-04T06:22:20.895958",
     "exception": false,
     "start_time": "2022-11-04T06:22:20.817614",
     "status": "completed"
    },
    "tags": []
   },
   "outputs": [],
   "source": [
    "pred = Linear_Model.predict(X_test) #Prediction on test data  \n",
    "pred_train = Linear_Model.predict(X_train) # prediction on train data"
   ]
  },
  {
   "cell_type": "code",
   "execution_count": 42,
   "id": "df69012a",
   "metadata": {
    "execution": {
     "iopub.execute_input": "2022-11-04T06:22:21.002714Z",
     "iopub.status.busy": "2022-11-04T06:22:21.001644Z",
     "iopub.status.idle": "2022-11-04T06:22:21.024606Z",
     "shell.execute_reply": "2022-11-04T06:22:21.023274Z"
    },
    "papermill": {
     "duration": 0.077955,
     "end_time": "2022-11-04T06:22:21.027198",
     "exception": false,
     "start_time": "2022-11-04T06:22:20.949243",
     "status": "completed"
    },
    "tags": []
   },
   "outputs": [
    {
     "name": "stdout",
     "output_type": "stream",
     "text": [
      "Mean absolute error of test data is 21639.850997018642\n",
      "Mean absolute error of train data is 19080.883805441477\n",
      "RMSE of test data is 35464.42921912215\n",
      "RMSE of train data is 29835.02902176458\n",
      "R^2 of test data is 0.8360270859589217\n",
      "R^2 of train data is 0.85076344400602\n"
     ]
    }
   ],
   "source": [
    "# Mean Absolute Error\n",
    "print(f\"Mean absolute error of test data is {mean_absolute_error(y_test, pred)}\")\n",
    "print(f\"Mean absolute error of train data is {mean_absolute_error(y_train, pred_train)}\")\n",
    "# RMSE\n",
    "print(f\"RMSE of test data is {mean_squared_error(y_test, pred , squared=False)}\")\n",
    "print(f\"RMSE of train data is {mean_squared_error(y_train, pred_train,squared=False)}\")\n",
    "# R^2\n",
    "print(f\"R^2 of test data is {r2_score(y_test, pred)}\")\n",
    "print(f\"R^2 of train data is {r2_score(y_train, pred_train)}\")"
   ]
  },
  {
   "cell_type": "markdown",
   "id": "2dffd34f",
   "metadata": {
    "papermill": {
     "duration": 0.019171,
     "end_time": "2022-11-04T06:22:21.065969",
     "exception": false,
     "start_time": "2022-11-04T06:22:21.046798",
     "status": "completed"
    },
    "tags": []
   },
   "source": [
    "## Let's check the predicted value distribution"
   ]
  },
  {
   "cell_type": "code",
   "execution_count": 43,
   "id": "6ff031be",
   "metadata": {
    "execution": {
     "iopub.execute_input": "2022-11-04T06:22:21.108062Z",
     "iopub.status.busy": "2022-11-04T06:22:21.107613Z",
     "iopub.status.idle": "2022-11-04T06:22:21.123403Z",
     "shell.execute_reply": "2022-11-04T06:22:21.122011Z"
    },
    "papermill": {
     "duration": 0.040646,
     "end_time": "2022-11-04T06:22:21.126114",
     "exception": false,
     "start_time": "2022-11-04T06:22:21.085468",
     "status": "completed"
    },
    "tags": []
   },
   "outputs": [
    {
     "data": {
      "text/html": [
       "<div>\n",
       "<style scoped>\n",
       "    .dataframe tbody tr th:only-of-type {\n",
       "        vertical-align: middle;\n",
       "    }\n",
       "\n",
       "    .dataframe tbody tr th {\n",
       "        vertical-align: top;\n",
       "    }\n",
       "\n",
       "    .dataframe thead th {\n",
       "        text-align: right;\n",
       "    }\n",
       "</style>\n",
       "<table border=\"1\" class=\"dataframe\">\n",
       "  <thead>\n",
       "    <tr style=\"text-align: right;\">\n",
       "      <th></th>\n",
       "      <th>Actual</th>\n",
       "      <th>Predicted</th>\n",
       "      <th>residual</th>\n",
       "    </tr>\n",
       "  </thead>\n",
       "  <tbody>\n",
       "    <tr>\n",
       "      <th>0</th>\n",
       "      <td>154500</td>\n",
       "      <td>155578.140765</td>\n",
       "      <td>-1078.140765</td>\n",
       "    </tr>\n",
       "    <tr>\n",
       "      <th>1</th>\n",
       "      <td>325000</td>\n",
       "      <td>323619.670004</td>\n",
       "      <td>1380.329996</td>\n",
       "    </tr>\n",
       "    <tr>\n",
       "      <th>2</th>\n",
       "      <td>115000</td>\n",
       "      <td>108273.991990</td>\n",
       "      <td>6726.008010</td>\n",
       "    </tr>\n",
       "    <tr>\n",
       "      <th>3</th>\n",
       "      <td>159000</td>\n",
       "      <td>171914.140918</td>\n",
       "      <td>-12914.140918</td>\n",
       "    </tr>\n",
       "    <tr>\n",
       "      <th>4</th>\n",
       "      <td>315500</td>\n",
       "      <td>277753.888370</td>\n",
       "      <td>37746.111630</td>\n",
       "    </tr>\n",
       "  </tbody>\n",
       "</table>\n",
       "</div>"
      ],
      "text/plain": [
       "   Actual      Predicted      residual\n",
       "0  154500  155578.140765  -1078.140765\n",
       "1  325000  323619.670004   1380.329996\n",
       "2  115000  108273.991990   6726.008010\n",
       "3  159000  171914.140918 -12914.140918\n",
       "4  315500  277753.888370  37746.111630"
      ]
     },
     "execution_count": 43,
     "metadata": {},
     "output_type": "execute_result"
    }
   ],
   "source": [
    "res_df = pd.DataFrame({'Actual': np.array(y_test).flatten(), 'Predicted': pred.flatten()})\n",
    "res_df['residual'] = res_df['Actual'] - res_df['Predicted']\n",
    "res_df.head()"
   ]
  },
  {
   "cell_type": "code",
   "execution_count": 44,
   "id": "fe12dc07",
   "metadata": {
    "execution": {
     "iopub.execute_input": "2022-11-04T06:22:21.167770Z",
     "iopub.status.busy": "2022-11-04T06:22:21.167343Z",
     "iopub.status.idle": "2022-11-04T06:22:21.352840Z",
     "shell.execute_reply": "2022-11-04T06:22:21.351700Z"
    },
    "papermill": {
     "duration": 0.209608,
     "end_time": "2022-11-04T06:22:21.355903",
     "exception": false,
     "start_time": "2022-11-04T06:22:21.146295",
     "status": "completed"
    },
    "tags": []
   },
   "outputs": [
    {
     "data": {
      "image/png": "[encoded data removed]",
      "text/plain": [
       "<Figure size 720x360 with 1 Axes>"
      ]
     },
     "metadata": {},
     "output_type": "display_data"
    }
   ],
   "source": [
    "plt.figure(figsize=(10,5))\n",
    "sns.scatterplot(x=res_df['Predicted'],y=res_df['residual'])\n",
    "plt.show()"
   ]
  },
  {
   "cell_type": "code",
   "execution_count": 45,
   "id": "c1f73350",
   "metadata": {
    "execution": {
     "iopub.execute_input": "2022-11-04T06:22:21.399128Z",
     "iopub.status.busy": "2022-11-04T06:22:21.398708Z",
     "iopub.status.idle": "2022-11-04T06:22:21.658944Z",
     "shell.execute_reply": "2022-11-04T06:22:21.657107Z"
    },
    "papermill": {
     "duration": 0.285643,
     "end_time": "2022-11-04T06:22:21.662014",
     "exception": false,
     "start_time": "2022-11-04T06:22:21.376371",
     "status": "completed"
    },
    "tags": []
   },
   "outputs": [
    {
     "data": {
      "image/png": "[encoded data removed]",
      "text/plain": [
       "<Figure size 720x360 with 1 Axes>"
      ]
     },
     "metadata": {},
     "output_type": "display_data"
    }
   ],
   "source": [
    "plt.figure(figsize=(10,5))\n",
    "ax = sns.distplot(res_df['residual'])\n",
    "ax.lines[0].set_color('crimson')\n",
    "plt.show()"
   ]
  },
  {
   "cell_type": "markdown",
   "id": "0e1dbfb5",
   "metadata": {
    "papermill": {
     "duration": 0.020631,
     "end_time": "2022-11-04T06:22:21.703975",
     "exception": false,
     "start_time": "2022-11-04T06:22:21.683344",
     "status": "completed"
    },
    "tags": []
   },
   "source": [
    "# Submission"
   ]
  },
  {
   "cell_type": "code",
   "execution_count": 46,
   "id": "62d76f12",
   "metadata": {
    "execution": {
     "iopub.execute_input": "2022-11-04T06:22:21.747107Z",
     "iopub.status.busy": "2022-11-04T06:22:21.746649Z",
     "iopub.status.idle": "2022-11-04T06:22:21.829127Z",
     "shell.execute_reply": "2022-11-04T06:22:21.827228Z"
    },
    "papermill": {
     "duration": 0.109754,
     "end_time": "2022-11-04T06:22:21.834288",
     "exception": false,
     "start_time": "2022-11-04T06:22:21.724534",
     "status": "completed"
    },
    "tags": []
   },
   "outputs": [],
   "source": [
    "predict = Linear_Model.predict(df_test)\n",
    "ts = pd.read_csv(\"../input/house-prices-advanced-regression-techniques/test.csv\")\n",
    "submission = pd.DataFrame()\n",
    "submission['Id'] = ts.Id\n",
    "submission['SalePrice'] = predict\n",
    "submission.to_csv('submission.csv', index=False)"
   ]
  },
  {
   "cell_type": "code",
   "execution_count": 47,
   "id": "513a229a",
   "metadata": {
    "execution": {
     "iopub.execute_input": "2022-11-04T06:22:21.903652Z",
     "iopub.status.busy": "2022-11-04T06:22:21.903215Z",
     "iopub.status.idle": "2022-11-04T06:22:21.915314Z",
     "shell.execute_reply": "2022-11-04T06:22:21.914006Z"
    },
    "papermill": {
     "duration": 0.036784,
     "end_time": "2022-11-04T06:22:21.918122",
     "exception": false,
     "start_time": "2022-11-04T06:22:21.881338",
     "status": "completed"
    },
    "tags": []
   },
   "outputs": [
    {
     "data": {
      "text/html": [
       "<div>\n",
       "<style scoped>\n",
       "    .dataframe tbody tr th:only-of-type {\n",
       "        vertical-align: middle;\n",
       "    }\n",
       "\n",
       "    .dataframe tbody tr th {\n",
       "        vertical-align: top;\n",
       "    }\n",
       "\n",
       "    .dataframe thead th {\n",
       "        text-align: right;\n",
       "    }\n",
       "</style>\n",
       "<table border=\"1\" class=\"dataframe\">\n",
       "  <thead>\n",
       "    <tr style=\"text-align: right;\">\n",
       "      <th></th>\n",
       "      <th>Id</th>\n",
       "      <th>SalePrice</th>\n",
       "    </tr>\n",
       "  </thead>\n",
       "  <tbody>\n",
       "    <tr>\n",
       "      <th>509</th>\n",
       "      <td>1970</td>\n",
       "      <td>348816.393774</td>\n",
       "    </tr>\n",
       "    <tr>\n",
       "      <th>671</th>\n",
       "      <td>2132</td>\n",
       "      <td>113646.151399</td>\n",
       "    </tr>\n",
       "    <tr>\n",
       "      <th>553</th>\n",
       "      <td>2014</td>\n",
       "      <td>178716.495872</td>\n",
       "    </tr>\n",
       "    <tr>\n",
       "      <th>518</th>\n",
       "      <td>1979</td>\n",
       "      <td>314979.576862</td>\n",
       "    </tr>\n",
       "    <tr>\n",
       "      <th>660</th>\n",
       "      <td>2121</td>\n",
       "      <td>91059.217531</td>\n",
       "    </tr>\n",
       "    <tr>\n",
       "      <th>789</th>\n",
       "      <td>2250</td>\n",
       "      <td>120346.524817</td>\n",
       "    </tr>\n",
       "  </tbody>\n",
       "</table>\n",
       "</div>"
      ],
      "text/plain": [
       "       Id      SalePrice\n",
       "509  1970  348816.393774\n",
       "671  2132  113646.151399\n",
       "553  2014  178716.495872\n",
       "518  1979  314979.576862\n",
       "660  2121   91059.217531\n",
       "789  2250  120346.524817"
      ]
     },
     "execution_count": 47,
     "metadata": {},
     "output_type": "execute_result"
    }
   ],
   "source": [
    "submission.sample(6)"
   ]
  },
  {
   "cell_type": "code",
   "execution_count": null,
   "id": "3c41bb53",
   "metadata": {
    "papermill": {
     "duration": 0.022901,
     "end_time": "2022-11-04T06:22:21.962172",
     "exception": false,
     "start_time": "2022-11-04T06:22:21.939271",
     "status": "completed"
    },
    "tags": []
   },
   "outputs": [],
   "source": []
  }
 ],
 "metadata": {
  "kernelspec": {
   "display_name": "Python 3 (ipykernel)",
   "language": "python",
   "name": "python3"
  },
  "language_info": {
   "codemirror_mode": {
    "name": "ipython",
    "version": 3
   },
   "file_extension": ".py",
   "mimetype": "text/x-python",
   "name": "python",
   "nbconvert_exporter": "python",
   "pygments_lexer": "ipython3",
   "version": "3.10.9"
  },
  "papermill": {
   "default_parameters": {},
   "duration": 20.978236,
   "end_time": "2022-11-04T06:22:22.910101",
   "environment_variables": {},
   "exception": null,
   "input_path": "__notebook__.ipynb",
   "output_path": "__notebook__.ipynb",
   "parameters": {},
   "start_time": "2022-11-04T06:22:01.931865",
   "version": "2.3.4"
  }
 },
 "nbformat": 4,
 "nbformat_minor": 5
}
